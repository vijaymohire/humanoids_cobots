{
  "nbformat": 4,
  "nbformat_minor": 0,
  "metadata": {
    "colab": {
      "provenance": []
    },
    "kernelspec": {
      "name": "python3",
      "display_name": "Python 3"
    },
    "language_info": {
      "name": "python"
    }
  },
  "cells": [
    {
      "cell_type": "markdown",
      "source": [
        "# **Intelligent Robot:**\n",
        "Basic Client-Server Simulation in Python (using roslibpy)\n",
        "\n",
        "This example doesn't require any ROS setup, but it demonstrates the use of function calls that you’d typically use in a real ROS environment\n",
        "\n",
        "**Key Points:**\n",
        "\n",
        "    Publisher: The first script simulates a ROS publisher that sends messages to a topic (like /chatter).\n",
        "\n",
        "    Subscriber: The second script simulates a ROS subscriber that listens for messages from that topic."
      ],
      "metadata": {
        "id": "rklH0Rx3lmks"
      }
    },
    {
      "cell_type": "markdown",
      "source": [
        "I have integrtead AI vision to this ROS simulation as an example"
      ],
      "metadata": {
        "id": "Gq51cw9guhXs"
      }
    },
    {
      "cell_type": "code",
      "execution_count": 1,
      "metadata": {
        "colab": {
          "base_uri": "https://localhost:8080/"
        },
        "id": "KloczpfCk5wP",
        "outputId": "1ebc075f-62b2-4589-9955-a333a3fd57a7"
      },
      "outputs": [
        {
          "output_type": "stream",
          "name": "stdout",
          "text": [
            "Requirement already satisfied: roslibpy in /usr/local/lib/python3.11/dist-packages (1.8.1)\n",
            "Requirement already satisfied: autobahn>=17.10 in /usr/local/lib/python3.11/dist-packages (from roslibpy) (24.4.2)\n",
            "Requirement already satisfied: twisted>=17.9 in /usr/local/lib/python3.11/dist-packages (from twisted[tls]>=17.9->roslibpy) (24.11.0)\n",
            "Requirement already satisfied: txaio>=21.2.1 in /usr/local/lib/python3.11/dist-packages (from autobahn>=17.10->roslibpy) (23.1.1)\n",
            "Requirement already satisfied: cryptography>=3.4.6 in /usr/local/lib/python3.11/dist-packages (from autobahn>=17.10->roslibpy) (43.0.3)\n",
            "Requirement already satisfied: hyperlink>=21.0.0 in /usr/local/lib/python3.11/dist-packages (from autobahn>=17.10->roslibpy) (21.0.0)\n",
            "Requirement already satisfied: setuptools in /usr/local/lib/python3.11/dist-packages (from autobahn>=17.10->roslibpy) (75.2.0)\n",
            "Requirement already satisfied: attrs>=22.2.0 in /usr/local/lib/python3.11/dist-packages (from twisted>=17.9->twisted[tls]>=17.9->roslibpy) (25.3.0)\n",
            "Requirement already satisfied: automat>=24.8.0 in /usr/local/lib/python3.11/dist-packages (from twisted>=17.9->twisted[tls]>=17.9->roslibpy) (25.4.16)\n",
            "Requirement already satisfied: constantly>=15.1 in /usr/local/lib/python3.11/dist-packages (from twisted>=17.9->twisted[tls]>=17.9->roslibpy) (23.10.4)\n",
            "Requirement already satisfied: incremental>=24.7.0 in /usr/local/lib/python3.11/dist-packages (from twisted>=17.9->twisted[tls]>=17.9->roslibpy) (24.7.2)\n",
            "Requirement already satisfied: typing-extensions>=4.2.0 in /usr/local/lib/python3.11/dist-packages (from twisted>=17.9->twisted[tls]>=17.9->roslibpy) (4.13.2)\n",
            "Requirement already satisfied: zope-interface>=5 in /usr/local/lib/python3.11/dist-packages (from twisted>=17.9->twisted[tls]>=17.9->roslibpy) (7.2)\n",
            "Requirement already satisfied: idna>=2.4 in /usr/local/lib/python3.11/dist-packages (from twisted[tls]>=17.9->roslibpy) (3.10)\n",
            "Requirement already satisfied: pyopenssl>=21.0.0 in /usr/local/lib/python3.11/dist-packages (from twisted[tls]>=17.9->roslibpy) (24.2.1)\n",
            "Requirement already satisfied: service-identity>=18.1.0 in /usr/local/lib/python3.11/dist-packages (from twisted[tls]>=17.9->roslibpy) (24.2.0)\n",
            "Requirement already satisfied: cffi>=1.12 in /usr/local/lib/python3.11/dist-packages (from cryptography>=3.4.6->autobahn>=17.10->roslibpy) (1.17.1)\n",
            "Requirement already satisfied: pyasn1 in /usr/local/lib/python3.11/dist-packages (from service-identity>=18.1.0->twisted[tls]>=17.9->roslibpy) (0.6.1)\n",
            "Requirement already satisfied: pyasn1-modules in /usr/local/lib/python3.11/dist-packages (from service-identity>=18.1.0->twisted[tls]>=17.9->roslibpy) (0.4.2)\n",
            "Requirement already satisfied: pycparser in /usr/local/lib/python3.11/dist-packages (from cffi>=1.12->cryptography>=3.4.6->autobahn>=17.10->roslibpy) (2.22)\n"
          ]
        }
      ],
      "source": [
        "!pip install roslibpy"
      ]
    },
    {
      "cell_type": "code",
      "source": [
        "# Simulated message class like std_msgs/String\n",
        "class StringMessage:\n",
        "    def __init__(self, data):\n",
        "        self.data = data\n",
        "\n",
        "# Simulated ROS Topic\n",
        "class Topic:\n",
        "    def __init__(self, name):\n",
        "        self.name = name\n",
        "        self.subscribers = []\n",
        "\n",
        "    def publish(self, message):\n",
        "        print(f\"[Publisher] Publishing to {self.name}: {message.data}\")\n",
        "        for callback in self.subscribers:\n",
        "            callback(message)\n",
        "\n",
        "    def subscribe(self, callback):\n",
        "        self.subscribers.append(callback)\n",
        "        print(f\"[Subscriber] Subscribed to {self.name}\")\n",
        "\n",
        "# Simulated use\n",
        "def message_callback(message):\n",
        "    print(f\"[Subscriber] Received: {message.data}\")\n",
        "\n",
        "# Create a mock topic (like /chatter)\n",
        "chatter_topic = Topic('/chatter')\n",
        "\n",
        "# Subscriber subscribes\n",
        "chatter_topic.subscribe(message_callback)\n",
        "\n",
        "# Publisher publishes a message\n",
        "msg = StringMessage(\"Hello from the simulated ROS node!\")\n",
        "chatter_topic.publish(msg)\n"
      ],
      "metadata": {
        "colab": {
          "base_uri": "https://localhost:8080/"
        },
        "id": "ZzetdQn5uzyK",
        "outputId": "a3341c93-ca09-4adb-c65e-3c362ae033ff"
      },
      "execution_count": 2,
      "outputs": [
        {
          "output_type": "stream",
          "name": "stdout",
          "text": [
            "[Subscriber] Subscribed to /chatter\n",
            "[Publisher] Publishing to /chatter: Hello from the simulated ROS node!\n",
            "[Subscriber] Received: Hello from the simulated ROS node!\n"
          ]
        }
      ]
    },
    {
      "cell_type": "code",
      "source": [
        "# Simulated request/response messages\n",
        "class AddTwoIntsRequest:\n",
        "    def __init__(self, a, b):\n",
        "        self.a = a\n",
        "        self.b = b\n",
        "\n",
        "class AddTwoIntsResponse:\n",
        "    def __init__(self, sum):\n",
        "        self.sum = sum\n",
        "\n",
        "# Simulated ROS Service\n",
        "class Service:\n",
        "    def __init__(self, name, callback):\n",
        "        self.name = name\n",
        "        self.callback = callback\n",
        "        print(f\"[Service] '{self.name}' ready.\")\n",
        "\n",
        "    def handle_request(self, request):\n",
        "        return self.callback(request)\n",
        "\n",
        "# Simulated ROS Service Client\n",
        "class ServiceClient:\n",
        "    def __init__(self, service):\n",
        "        self.service = service\n",
        "\n",
        "    def call(self, request):\n",
        "        print(f\"[Client] Sending request to '{self.service.name}': {request.a} + {request.b}\")\n",
        "        response = self.service.handle_request(request)\n",
        "        return response\n",
        "\n",
        "# Service-side callback function\n",
        "def handle_add_two_ints(request):\n",
        "    result = request.a + request.b\n",
        "    print(f\"[Service] Processing request: {request.a} + {request.b} = {result}\")\n",
        "    return AddTwoIntsResponse(result)\n",
        "\n",
        "# === Run simulated service and client ===\n",
        "\n",
        "# 1. Create the service\n",
        "add_service = Service('/add_two_ints', handle_add_two_ints)\n",
        "\n",
        "# 2. Create a client for the service\n",
        "client = ServiceClient(add_service)\n",
        "\n",
        "# 3. Send a request from the client\n",
        "req = AddTwoIntsRequest(5, 7)\n",
        "res = client.call(req)\n",
        "\n",
        "# 4. Output the result\n",
        "print(f\"[Client] Received response: sum = {res.sum}\")\n"
      ],
      "metadata": {
        "colab": {
          "base_uri": "https://localhost:8080/"
        },
        "id": "sE3TOGl5v0PM",
        "outputId": "fe241361-6f51-4201-ee13-2aad85996443"
      },
      "execution_count": 3,
      "outputs": [
        {
          "output_type": "stream",
          "name": "stdout",
          "text": [
            "[Service] '/add_two_ints' ready.\n",
            "[Client] Sending request to '/add_two_ints': 5 + 7\n",
            "[Service] Processing request: 5 + 7 = 12\n",
            "[Client] Received response: sum = 12\n"
          ]
        }
      ]
    },
    {
      "cell_type": "code",
      "source": [
        "import time\n",
        "import threading\n",
        "\n",
        "# Simulated Goal message\n",
        "class MoveBaseGoal:\n",
        "    def __init__(self, x, y):\n",
        "        self.target_x = x\n",
        "        self.target_y = y\n",
        "\n",
        "# Simulated Feedback message\n",
        "class MoveBaseFeedback:\n",
        "    def __init__(self, current_x, current_y):\n",
        "        self.current_x = current_x\n",
        "        self.current_y = current_y\n",
        "\n",
        "# Simulated Result message\n",
        "class MoveBaseResult:\n",
        "    def __init__(self, success, final_x, final_y):\n",
        "        self.success = success\n",
        "        self.final_x = final_x\n",
        "        self.final_y = final_y\n",
        "\n",
        "# Simulated Action Server for robot navigation\n",
        "class NavigationActionServer:\n",
        "    def __init__(self):\n",
        "        self.current_x = 0\n",
        "        self.current_y = 0\n",
        "        print(\"[ActionServer] Ready to receive navigation goals.\")\n",
        "\n",
        "    def execute_goal(self, goal, feedback_cb=None, done_cb=None):\n",
        "        print(f\"[ActionServer] Received goal: Move to ({goal.target_x}, {goal.target_y})\")\n",
        "\n",
        "        def run():\n",
        "            while self.current_x != goal.target_x or self.current_y != goal.target_y:\n",
        "                time.sleep(0.5)  # Simulate motion delay\n",
        "\n",
        "                # Move one step toward target\n",
        "                if self.current_x < goal.target_x:\n",
        "                    self.current_x += 1\n",
        "                elif self.current_x > goal.target_x:\n",
        "                    self.current_x -= 1\n",
        "\n",
        "                if self.current_y < goal.target_y:\n",
        "                    self.current_y += 1\n",
        "                elif self.current_y > goal.target_y:\n",
        "                    self.current_y -= 1\n",
        "\n",
        "                # Send feedback\n",
        "                if feedback_cb:\n",
        "                    feedback_cb(MoveBaseFeedback(self.current_x, self.current_y))\n",
        "\n",
        "            # Goal reached\n",
        "            result = MoveBaseResult(True, self.current_x, self.current_y)\n",
        "            if done_cb:\n",
        "                done_cb(result)\n",
        "\n",
        "        threading.Thread(target=run).start()\n",
        "\n",
        "# === Simulate the robot client sending a navigation goal ===\n",
        "\n",
        "def feedback_callback(feedback):\n",
        "    print(f\"[Client] Feedback: Robot at ({feedback.current_x}, {feedback.current_y})\")\n",
        "\n",
        "def done_callback(result):\n",
        "    print(f\"[Client] Goal reached at ({result.final_x}, {result.final_y}) — Success: {result.success}\")\n",
        "\n",
        "# Create action server\n",
        "nav_server = NavigationActionServer()\n",
        "\n",
        "# Send goal from client to server\n",
        "goal = MoveBaseGoal(3, 2)\n",
        "nav_server.execute_goal(goal, feedback_cb=feedback_callback, done_cb=done_callback)\n"
      ],
      "metadata": {
        "colab": {
          "base_uri": "https://localhost:8080/"
        },
        "id": "0lbIwN4pxDFd",
        "outputId": "d77efa02-3db0-411b-9880-2c614192f7cd"
      },
      "execution_count": 4,
      "outputs": [
        {
          "output_type": "stream",
          "name": "stdout",
          "text": [
            "[ActionServer] Ready to receive navigation goals.\n",
            "[ActionServer] Received goal: Move to (3, 2)\n"
          ]
        }
      ]
    },
    {
      "cell_type": "code",
      "source": [
        "!pip install -q tensorflow\n"
      ],
      "metadata": {
        "id": "VQNyjVbbz6AZ"
      },
      "execution_count": 5,
      "outputs": []
    },
    {
      "cell_type": "code",
      "source": [
        "\n",
        "\n",
        "import tensorflow as tf\n",
        "from tensorflow.keras.applications import MobileNetV2\n",
        "from tensorflow.keras.applications.mobilenet_v2 import preprocess_input, decode_predictions\n",
        "from tensorflow.keras.preprocessing.image import img_to_array\n",
        "from tensorflow.keras.datasets import cifar10\n",
        "import numpy as np\n",
        "\n",
        "# --- Simulated ROS Topic ---\n",
        "class Topic:\n",
        "    def __init__(self, name):\n",
        "        self.name = name\n",
        "        self.subscribers = []\n",
        "\n",
        "    def publish(self, message):\n",
        "        print(f\"[Publisher] Published to {self.name}: {message}\")\n",
        "        for callback in self.subscribers:\n",
        "            callback(message)\n",
        "\n",
        "    def subscribe(self, callback):\n",
        "        self.subscribers.append(callback)\n",
        "        print(f\"[Subscriber] Subscribed to {self.name}\")\n",
        "\n",
        "# --- AI Inference Node (like a publisher) ---\n",
        "class AINode:\n",
        "    def __init__(self, topic):\n",
        "        self.model = MobileNetV2(weights=\"imagenet\")\n",
        "        self.topic = topic\n",
        "\n",
        "    def classify_and_publish(self, image):\n",
        "        image = tf.image.resize(image, (224, 224))\n",
        "        image = img_to_array(image).copy()  # Ensure writable\n",
        "        image = preprocess_input(image)\n",
        "        image = np.expand_dims(image, axis=0)\n",
        "        preds = self.model.predict(image)\n",
        "        label = decode_predictions(preds, top=1)[0][0][1]\n",
        "        self.topic.publish(label)\n",
        "\n",
        "# --- Subscriber Node ---\n",
        "def robot_decision_callback(label):\n",
        "    print(f\"[Robot] Detected object: {label}\")\n",
        "    if label in ['person', 'dog', 'cat']:\n",
        "        print(\"[Robot] Action: Follow!\")\n",
        "    else:\n",
        "        print(\"[Robot] Action: Ignore.\")\n",
        "\n",
        "# --- Set up the communication ---\n",
        "image_topic = Topic('/detected_object')\n",
        "image_topic.subscribe(robot_decision_callback)\n",
        "\n",
        "# --- Load a test image (CIFAR-10) ---\n",
        "(_, _), (x_test, _) = cifar10.load_data()\n",
        "sample_img = x_test[1] / 255.0  # Normalize\n",
        "\n",
        "# --- Run the AI node ---\n",
        "ai_node = AINode(image_topic)\n",
        "ai_node.classify_and_publish(sample_img)\n"
      ],
      "metadata": {
        "colab": {
          "base_uri": "https://localhost:8080/"
        },
        "id": "WG4wgrTc0Gsv",
        "outputId": "f44d97ed-046b-4c57-bb7d-2ed92eae1d25"
      },
      "execution_count": 9,
      "outputs": [
        {
          "output_type": "stream",
          "name": "stdout",
          "text": [
            "[Subscriber] Subscribed to /detected_object\n",
            "\u001b[1m1/1\u001b[0m \u001b[32m━━━━━━━━━━━━━━━━━━━━\u001b[0m\u001b[37m\u001b[0m \u001b[1m2s\u001b[0m 2s/step\n",
            "Downloading data from https://storage.googleapis.com/download.tensorflow.org/data/imagenet_class_index.json\n",
            "\u001b[1m35363/35363\u001b[0m \u001b[32m━━━━━━━━━━━━━━━━━━━━\u001b[0m\u001b[37m\u001b[0m \u001b[1m0s\u001b[0m 0us/step\n",
            "[Publisher] Published to /detected_object: spotlight\n",
            "[Robot] Detected object: spotlight\n",
            "[Robot] Action: Ignore.\n"
          ]
        }
      ]
    },
    {
      "cell_type": "markdown",
      "source": [
        "Idea and execution by Bhadale IT, code generated by ChatGPT"
      ],
      "metadata": {
        "id": "uIxayT0_3U6S"
      }
    }
  ]
}